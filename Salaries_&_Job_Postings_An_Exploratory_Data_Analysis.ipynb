{
  "nbformat": 4,
  "nbformat_minor": 0,
  "metadata": {
    "colab": {
      "name": "Salaries & Job Postings: An Exploratory Data Analysis.ipynb",
      "version": "0.3.2",
      "provenance": [],
      "collapsed_sections": [],
      "include_colab_link": true
    },
    "kernelspec": {
      "name": "python3",
      "display_name": "Python 3"
    }
  },
  "cells": [
    {
      "cell_type": "markdown",
      "metadata": {
        "id": "view-in-github",
        "colab_type": "text"
      },
      "source": [
        "<a href=\"https://colab.research.google.com/github/thatgirldorian/Salary-Prediction-Analysis/blob/master/Salaries_%26_Job_Postings_An_Exploratory_Data_Analysis.ipynb\" target=\"_parent\"><img src=\"https://colab.research.google.com/assets/colab-badge.svg\" alt=\"Open In Colab\"/></a>"
      ]
    },
    {
      "cell_type": "markdown",
      "metadata": {
        "id": "wIMPG4zhekfy",
        "colab_type": "text"
      },
      "source": [
        "**Salaries & Job Postings: An Exploratory Data Analysis.ipynb**"
      ]
    },
    {
      "cell_type": "markdown",
      "metadata": {
        "id": "9BJ0ANQafmnY",
        "colab_type": "text"
      },
      "source": [
        "My aim in this project is to analyze salaries based on diverse job descriptions. \n",
        "\n",
        "Here, I'll examine a set of job postings with salaries and then look at the relationship bwtween them and a set of job postings.\n",
        "\n",
        "I have 3 CSV data files:\n",
        "\n",
        "• train_features.csv: Each row represents metadata for an individual job posting.\n",
        "The “jobId” column represents a unique identifier for the job posting. The remaining columns describe features of the job posting.\n",
        "\n",
        "• train_salaries.csv: Each row associates a “jobId” with a “salary”.\n",
        "\n",
        "• test_features.csv: Similar to train_features.csv, each row represents metadata for an individual job posting.\n",
        "The first row of each file contains headers for the columns. The metadata and salary data may contain errors.\n",
        "\n",
        "This analysis aims to provide an insight into the relationship that exists job postings and the salaries they pay.\n"
      ]
    },
    {
      "cell_type": "markdown",
      "metadata": {
        "id": "gKnNPX0xf0IE",
        "colab_type": "text"
      },
      "source": [
        "**Exploring the Data**"
      ]
    },
    {
      "cell_type": "markdown",
      "metadata": {
        "id": "XCE3epzOf75y",
        "colab_type": "text"
      },
      "source": [
        "Here, I'll load, explore, and visualize the salary datasets."
      ]
    },
    {
      "cell_type": "code",
      "metadata": {
        "id": "F5FfP1VPf_s2",
        "colab_type": "code",
        "colab": {}
      },
      "source": [
        "import numpy as np\n",
        "import pandas as pd\n",
        "import matplotlib.pyplot as plt\n",
        "import seaborn as sns\n",
        "% matplotlib inline"
      ],
      "execution_count": 0,
      "outputs": []
    },
    {
      "cell_type": "markdown",
      "metadata": {
        "id": "WqcqIK0sheag",
        "colab_type": "text"
      },
      "source": [
        "**Loading the Data**"
      ]
    },
    {
      "cell_type": "code",
      "metadata": {
        "id": "zRUecJzrhpMr",
        "colab_type": "code",
        "colab": {}
      },
      "source": [
        "# Read in files and print the information\n",
        "train_feature_df = pd.read_csv('train_features.csv')\n",
        "train_target_df = pd.read_csv('train_salaries.csv')\n",
        "test_feature_df = pd.read_csv('test_features.csv')"
      ],
      "execution_count": 0,
      "outputs": []
    },
    {
      "cell_type": "markdown",
      "metadata": {
        "id": "MgT4VBvRh5bT",
        "colab_type": "text"
      },
      "source": [
        "**Examine the data**\n",
        "\n",
        "Here, I'll take 10 samples from each data set to see at a glance, what I'm dealing with."
      ]
    },
    {
      "cell_type": "code",
      "metadata": {
        "id": "_NLpcQnHh8E4",
        "colab_type": "code",
        "outputId": "0dbbaa30-2955-45bd-bd9b-b570889534ba",
        "colab": {
          "base_uri": "https://localhost:8080/",
          "height": 379
        }
      },
      "source": [
        "train_feature_df.head(10)"
      ],
      "execution_count": 0,
      "outputs": [
        {
          "output_type": "execute_result",
          "data": {
            "text/html": [
              "<div>\n",
              "<style scoped>\n",
              "    .dataframe tbody tr th:only-of-type {\n",
              "        vertical-align: middle;\n",
              "    }\n",
              "\n",
              "    .dataframe tbody tr th {\n",
              "        vertical-align: top;\n",
              "    }\n",
              "\n",
              "    .dataframe thead th {\n",
              "        text-align: right;\n",
              "    }\n",
              "</style>\n",
              "<table border=\"1\" class=\"dataframe\">\n",
              "  <thead>\n",
              "    <tr style=\"text-align: right;\">\n",
              "      <th></th>\n",
              "      <th>jobId</th>\n",
              "      <th>companyId</th>\n",
              "      <th>jobType</th>\n",
              "      <th>degree</th>\n",
              "      <th>major</th>\n",
              "      <th>industry</th>\n",
              "      <th>yearsExperience</th>\n",
              "      <th>milesFromMetropolis</th>\n",
              "    </tr>\n",
              "  </thead>\n",
              "  <tbody>\n",
              "    <tr>\n",
              "      <th>0</th>\n",
              "      <td>JOB1362684407687</td>\n",
              "      <td>COMP37</td>\n",
              "      <td>CFO</td>\n",
              "      <td>MASTERS</td>\n",
              "      <td>MATH</td>\n",
              "      <td>HEALTH</td>\n",
              "      <td>10.0</td>\n",
              "      <td>83.0</td>\n",
              "    </tr>\n",
              "    <tr>\n",
              "      <th>1</th>\n",
              "      <td>JOB1362684407688</td>\n",
              "      <td>COMP19</td>\n",
              "      <td>CEO</td>\n",
              "      <td>HIGH_SCHOOL</td>\n",
              "      <td>NONE</td>\n",
              "      <td>WEB</td>\n",
              "      <td>3.0</td>\n",
              "      <td>73.0</td>\n",
              "    </tr>\n",
              "    <tr>\n",
              "      <th>2</th>\n",
              "      <td>JOB1362684407689</td>\n",
              "      <td>COMP52</td>\n",
              "      <td>VICE_PRESIDENT</td>\n",
              "      <td>DOCTORAL</td>\n",
              "      <td>PHYSICS</td>\n",
              "      <td>HEALTH</td>\n",
              "      <td>10.0</td>\n",
              "      <td>38.0</td>\n",
              "    </tr>\n",
              "    <tr>\n",
              "      <th>3</th>\n",
              "      <td>JOB1362684407690</td>\n",
              "      <td>COMP38</td>\n",
              "      <td>MANAGER</td>\n",
              "      <td>DOCTORAL</td>\n",
              "      <td>CHEMISTRY</td>\n",
              "      <td>AUTO</td>\n",
              "      <td>8.0</td>\n",
              "      <td>17.0</td>\n",
              "    </tr>\n",
              "    <tr>\n",
              "      <th>4</th>\n",
              "      <td>JOB1362684407691</td>\n",
              "      <td>COMP7</td>\n",
              "      <td>VICE_PRESIDENT</td>\n",
              "      <td>BACHELORS</td>\n",
              "      <td>PHYSICS</td>\n",
              "      <td>FINANCE</td>\n",
              "      <td>8.0</td>\n",
              "      <td>16.0</td>\n",
              "    </tr>\n",
              "    <tr>\n",
              "      <th>5</th>\n",
              "      <td>JOB1362684407692</td>\n",
              "      <td>COMP15</td>\n",
              "      <td>MANAGER</td>\n",
              "      <td>DOCTORAL</td>\n",
              "      <td>COMPSCI</td>\n",
              "      <td>FINANCE</td>\n",
              "      <td>2.0</td>\n",
              "      <td>31.0</td>\n",
              "    </tr>\n",
              "    <tr>\n",
              "      <th>6</th>\n",
              "      <td>JOB1362684407693</td>\n",
              "      <td>COMP15</td>\n",
              "      <td>CFO</td>\n",
              "      <td>NONE</td>\n",
              "      <td>NONE</td>\n",
              "      <td>HEALTH</td>\n",
              "      <td>23.0</td>\n",
              "      <td>24.0</td>\n",
              "    </tr>\n",
              "    <tr>\n",
              "      <th>7</th>\n",
              "      <td>JOB1362684407694</td>\n",
              "      <td>COMP24</td>\n",
              "      <td>JUNIOR</td>\n",
              "      <td>BACHELORS</td>\n",
              "      <td>CHEMISTRY</td>\n",
              "      <td>EDUCATION</td>\n",
              "      <td>9.0</td>\n",
              "      <td>70.0</td>\n",
              "    </tr>\n",
              "    <tr>\n",
              "      <th>8</th>\n",
              "      <td>JOB1362684407695</td>\n",
              "      <td>COMP20</td>\n",
              "      <td>JANITOR</td>\n",
              "      <td>HIGH_SCHOOL</td>\n",
              "      <td>NONE</td>\n",
              "      <td>EDUCATION</td>\n",
              "      <td>1.0</td>\n",
              "      <td>54.0</td>\n",
              "    </tr>\n",
              "    <tr>\n",
              "      <th>9</th>\n",
              "      <td>JOB1362684407696</td>\n",
              "      <td>COMP41</td>\n",
              "      <td>VICE_PRESIDENT</td>\n",
              "      <td>BACHELORS</td>\n",
              "      <td>CHEMISTRY</td>\n",
              "      <td>AUTO</td>\n",
              "      <td>17.0</td>\n",
              "      <td>68.0</td>\n",
              "    </tr>\n",
              "  </tbody>\n",
              "</table>\n",
              "</div>"
            ],
            "text/plain": [
              "              jobId companyId  ... yearsExperience milesFromMetropolis\n",
              "0  JOB1362684407687    COMP37  ...            10.0                83.0\n",
              "1  JOB1362684407688    COMP19  ...             3.0                73.0\n",
              "2  JOB1362684407689    COMP52  ...            10.0                38.0\n",
              "3  JOB1362684407690    COMP38  ...             8.0                17.0\n",
              "4  JOB1362684407691     COMP7  ...             8.0                16.0\n",
              "5  JOB1362684407692    COMP15  ...             2.0                31.0\n",
              "6  JOB1362684407693    COMP15  ...            23.0                24.0\n",
              "7  JOB1362684407694    COMP24  ...             9.0                70.0\n",
              "8  JOB1362684407695    COMP20  ...             1.0                54.0\n",
              "9  JOB1362684407696    COMP41  ...            17.0                68.0\n",
              "\n",
              "[10 rows x 8 columns]"
            ]
          },
          "metadata": {
            "tags": []
          },
          "execution_count": 6
        }
      ]
    },
    {
      "cell_type": "code",
      "metadata": {
        "id": "uXd2T3nqiGi6",
        "colab_type": "code",
        "outputId": "dfa32643-e072-4fc2-b67e-c37ed65fc1a4",
        "colab": {
          "base_uri": "https://localhost:8080/",
          "height": 379
        }
      },
      "source": [
        "test_feature_df.head(10)"
      ],
      "execution_count": 0,
      "outputs": [
        {
          "output_type": "execute_result",
          "data": {
            "text/html": [
              "<div>\n",
              "<style scoped>\n",
              "    .dataframe tbody tr th:only-of-type {\n",
              "        vertical-align: middle;\n",
              "    }\n",
              "\n",
              "    .dataframe tbody tr th {\n",
              "        vertical-align: top;\n",
              "    }\n",
              "\n",
              "    .dataframe thead th {\n",
              "        text-align: right;\n",
              "    }\n",
              "</style>\n",
              "<table border=\"1\" class=\"dataframe\">\n",
              "  <thead>\n",
              "    <tr style=\"text-align: right;\">\n",
              "      <th></th>\n",
              "      <th>jobId</th>\n",
              "      <th>companyId</th>\n",
              "      <th>jobType</th>\n",
              "      <th>degree</th>\n",
              "      <th>major</th>\n",
              "      <th>industry</th>\n",
              "      <th>yearsExperience</th>\n",
              "      <th>milesFromMetropolis</th>\n",
              "    </tr>\n",
              "  </thead>\n",
              "  <tbody>\n",
              "    <tr>\n",
              "      <th>0</th>\n",
              "      <td>JOB1362685407687</td>\n",
              "      <td>COMP33</td>\n",
              "      <td>MANAGER</td>\n",
              "      <td>HIGH_SCHOOL</td>\n",
              "      <td>NONE</td>\n",
              "      <td>HEALTH</td>\n",
              "      <td>22.0</td>\n",
              "      <td>73.0</td>\n",
              "    </tr>\n",
              "    <tr>\n",
              "      <th>1</th>\n",
              "      <td>JOB1362685407688</td>\n",
              "      <td>COMP13</td>\n",
              "      <td>JUNIOR</td>\n",
              "      <td>NONE</td>\n",
              "      <td>NONE</td>\n",
              "      <td>AUTO</td>\n",
              "      <td>20.0</td>\n",
              "      <td>47.0</td>\n",
              "    </tr>\n",
              "    <tr>\n",
              "      <th>2</th>\n",
              "      <td>JOB1362685407689</td>\n",
              "      <td>COMP10</td>\n",
              "      <td>CTO</td>\n",
              "      <td>MASTERS</td>\n",
              "      <td>BIOLOGY</td>\n",
              "      <td>HEALTH</td>\n",
              "      <td>17.0</td>\n",
              "      <td>9.0</td>\n",
              "    </tr>\n",
              "    <tr>\n",
              "      <th>3</th>\n",
              "      <td>JOB1362685407690</td>\n",
              "      <td>COMP21</td>\n",
              "      <td>MANAGER</td>\n",
              "      <td>HIGH_SCHOOL</td>\n",
              "      <td>NONE</td>\n",
              "      <td>OIL</td>\n",
              "      <td>14.0</td>\n",
              "      <td>96.0</td>\n",
              "    </tr>\n",
              "    <tr>\n",
              "      <th>4</th>\n",
              "      <td>JOB1362685407691</td>\n",
              "      <td>COMP36</td>\n",
              "      <td>JUNIOR</td>\n",
              "      <td>DOCTORAL</td>\n",
              "      <td>BIOLOGY</td>\n",
              "      <td>OIL</td>\n",
              "      <td>10.0</td>\n",
              "      <td>44.0</td>\n",
              "    </tr>\n",
              "    <tr>\n",
              "      <th>5</th>\n",
              "      <td>JOB1362685407692</td>\n",
              "      <td>COMP40</td>\n",
              "      <td>CTO</td>\n",
              "      <td>MASTERS</td>\n",
              "      <td>COMPSCI</td>\n",
              "      <td>FINANCE</td>\n",
              "      <td>6.0</td>\n",
              "      <td>23.0</td>\n",
              "    </tr>\n",
              "    <tr>\n",
              "      <th>6</th>\n",
              "      <td>JOB1362685407693</td>\n",
              "      <td>COMP32</td>\n",
              "      <td>SENIOR</td>\n",
              "      <td>MASTERS</td>\n",
              "      <td>COMPSCI</td>\n",
              "      <td>SERVICE</td>\n",
              "      <td>6.0</td>\n",
              "      <td>32.0</td>\n",
              "    </tr>\n",
              "    <tr>\n",
              "      <th>7</th>\n",
              "      <td>JOB1362685407694</td>\n",
              "      <td>COMP11</td>\n",
              "      <td>CEO</td>\n",
              "      <td>BACHELORS</td>\n",
              "      <td>BIOLOGY</td>\n",
              "      <td>SERVICE</td>\n",
              "      <td>9.0</td>\n",
              "      <td>73.0</td>\n",
              "    </tr>\n",
              "    <tr>\n",
              "      <th>8</th>\n",
              "      <td>JOB1362685407695</td>\n",
              "      <td>COMP39</td>\n",
              "      <td>MANAGER</td>\n",
              "      <td>DOCTORAL</td>\n",
              "      <td>PHYSICS</td>\n",
              "      <td>HEALTH</td>\n",
              "      <td>6.0</td>\n",
              "      <td>78.0</td>\n",
              "    </tr>\n",
              "    <tr>\n",
              "      <th>9</th>\n",
              "      <td>JOB1362685407696</td>\n",
              "      <td>COMP22</td>\n",
              "      <td>VICE_PRESIDENT</td>\n",
              "      <td>NONE</td>\n",
              "      <td>NONE</td>\n",
              "      <td>AUTO</td>\n",
              "      <td>23.0</td>\n",
              "      <td>97.0</td>\n",
              "    </tr>\n",
              "  </tbody>\n",
              "</table>\n",
              "</div>"
            ],
            "text/plain": [
              "              jobId companyId  ... yearsExperience milesFromMetropolis\n",
              "0  JOB1362685407687    COMP33  ...            22.0                73.0\n",
              "1  JOB1362685407688    COMP13  ...            20.0                47.0\n",
              "2  JOB1362685407689    COMP10  ...            17.0                 9.0\n",
              "3  JOB1362685407690    COMP21  ...            14.0                96.0\n",
              "4  JOB1362685407691    COMP36  ...            10.0                44.0\n",
              "5  JOB1362685407692    COMP40  ...             6.0                23.0\n",
              "6  JOB1362685407693    COMP32  ...             6.0                32.0\n",
              "7  JOB1362685407694    COMP11  ...             9.0                73.0\n",
              "8  JOB1362685407695    COMP39  ...             6.0                78.0\n",
              "9  JOB1362685407696    COMP22  ...            23.0                97.0\n",
              "\n",
              "[10 rows x 8 columns]"
            ]
          },
          "metadata": {
            "tags": []
          },
          "execution_count": 7
        }
      ]
    },
    {
      "cell_type": "code",
      "metadata": {
        "id": "sh0qIljxiUNN",
        "colab_type": "code",
        "outputId": "72448b91-6fd4-47d4-ea09-46093f698a21",
        "colab": {
          "base_uri": "https://localhost:8080/",
          "height": 359
        }
      },
      "source": [
        "train_target_df.head(10)"
      ],
      "execution_count": 0,
      "outputs": [
        {
          "output_type": "execute_result",
          "data": {
            "text/html": [
              "<div>\n",
              "<style scoped>\n",
              "    .dataframe tbody tr th:only-of-type {\n",
              "        vertical-align: middle;\n",
              "    }\n",
              "\n",
              "    .dataframe tbody tr th {\n",
              "        vertical-align: top;\n",
              "    }\n",
              "\n",
              "    .dataframe thead th {\n",
              "        text-align: right;\n",
              "    }\n",
              "</style>\n",
              "<table border=\"1\" class=\"dataframe\">\n",
              "  <thead>\n",
              "    <tr style=\"text-align: right;\">\n",
              "      <th></th>\n",
              "      <th>jobId</th>\n",
              "      <th>salary</th>\n",
              "    </tr>\n",
              "  </thead>\n",
              "  <tbody>\n",
              "    <tr>\n",
              "      <th>0</th>\n",
              "      <td>JOB1362684407687</td>\n",
              "      <td>130.0</td>\n",
              "    </tr>\n",
              "    <tr>\n",
              "      <th>1</th>\n",
              "      <td>JOB1362684407688</td>\n",
              "      <td>101.0</td>\n",
              "    </tr>\n",
              "    <tr>\n",
              "      <th>2</th>\n",
              "      <td>JOB1362684407689</td>\n",
              "      <td>137.0</td>\n",
              "    </tr>\n",
              "    <tr>\n",
              "      <th>3</th>\n",
              "      <td>JOB1362684407690</td>\n",
              "      <td>142.0</td>\n",
              "    </tr>\n",
              "    <tr>\n",
              "      <th>4</th>\n",
              "      <td>JOB1362684407691</td>\n",
              "      <td>163.0</td>\n",
              "    </tr>\n",
              "    <tr>\n",
              "      <th>5</th>\n",
              "      <td>JOB1362684407692</td>\n",
              "      <td>113.0</td>\n",
              "    </tr>\n",
              "    <tr>\n",
              "      <th>6</th>\n",
              "      <td>JOB1362684407693</td>\n",
              "      <td>178.0</td>\n",
              "    </tr>\n",
              "    <tr>\n",
              "      <th>7</th>\n",
              "      <td>JOB1362684407694</td>\n",
              "      <td>73.0</td>\n",
              "    </tr>\n",
              "    <tr>\n",
              "      <th>8</th>\n",
              "      <td>JOB1362684407695</td>\n",
              "      <td>31.0</td>\n",
              "    </tr>\n",
              "    <tr>\n",
              "      <th>9</th>\n",
              "      <td>JOB1362684407696</td>\n",
              "      <td>104.0</td>\n",
              "    </tr>\n",
              "  </tbody>\n",
              "</table>\n",
              "</div>"
            ],
            "text/plain": [
              "              jobId  salary\n",
              "0  JOB1362684407687   130.0\n",
              "1  JOB1362684407688   101.0\n",
              "2  JOB1362684407689   137.0\n",
              "3  JOB1362684407690   142.0\n",
              "4  JOB1362684407691   163.0\n",
              "5  JOB1362684407692   113.0\n",
              "6  JOB1362684407693   178.0\n",
              "7  JOB1362684407694    73.0\n",
              "8  JOB1362684407695    31.0\n",
              "9  JOB1362684407696   104.0"
            ]
          },
          "metadata": {
            "tags": []
          },
          "execution_count": 8
        }
      ]
    },
    {
      "cell_type": "markdown",
      "metadata": {
        "id": "oCVGX-N_jQUG",
        "colab_type": "text"
      },
      "source": [
        "**Use .info() to see length and dtypes**\n",
        "\n",
        "Here, I want to see the length and different data types in the data sets."
      ]
    },
    {
      "cell_type": "code",
      "metadata": {
        "id": "njs0NCnXjd_j",
        "colab_type": "code",
        "outputId": "c4e0a4fa-7aab-4d72-a3dc-54d61097e8cb",
        "colab": {
          "base_uri": "https://localhost:8080/",
          "height": 238
        }
      },
      "source": [
        "train_feature_df.info()\n"
      ],
      "execution_count": 0,
      "outputs": [
        {
          "output_type": "stream",
          "text": [
            "<class 'pandas.core.frame.DataFrame'>\n",
            "RangeIndex: 322019 entries, 0 to 322018\n",
            "Data columns (total 8 columns):\n",
            "jobId                  322019 non-null object\n",
            "companyId              322019 non-null object\n",
            "jobType                322019 non-null object\n",
            "degree                 322018 non-null object\n",
            "major                  322018 non-null object\n",
            "industry               322018 non-null object\n",
            "yearsExperience        322018 non-null float64\n",
            "milesFromMetropolis    322018 non-null float64\n",
            "dtypes: float64(2), object(6)\n",
            "memory usage: 19.7+ MB\n"
          ],
          "name": "stdout"
        }
      ]
    },
    {
      "cell_type": "code",
      "metadata": {
        "id": "X-fRyui2jnmR",
        "colab_type": "code",
        "outputId": "1570eec6-3dc4-4877-d2fc-b2f661ff2a16",
        "colab": {
          "base_uri": "https://localhost:8080/",
          "height": 136
        }
      },
      "source": [
        "train_target_df.info()"
      ],
      "execution_count": 0,
      "outputs": [
        {
          "output_type": "stream",
          "text": [
            "<class 'pandas.core.frame.DataFrame'>\n",
            "RangeIndex: 914168 entries, 0 to 914167\n",
            "Data columns (total 2 columns):\n",
            "jobId     914168 non-null object\n",
            "salary    914167 non-null float64\n",
            "dtypes: float64(1), object(1)\n",
            "memory usage: 13.9+ MB\n"
          ],
          "name": "stdout"
        }
      ]
    },
    {
      "cell_type": "code",
      "metadata": {
        "id": "T2jtj4sRjvqC",
        "colab_type": "code",
        "outputId": "a77b508e-4012-436c-a6b7-7a4444be4c8e",
        "colab": {
          "base_uri": "https://localhost:8080/",
          "height": 238
        }
      },
      "source": [
        "test_feature_df.info()"
      ],
      "execution_count": 0,
      "outputs": [
        {
          "output_type": "stream",
          "text": [
            "<class 'pandas.core.frame.DataFrame'>\n",
            "RangeIndex: 357732 entries, 0 to 357731\n",
            "Data columns (total 8 columns):\n",
            "jobId                  357732 non-null object\n",
            "companyId              357732 non-null object\n",
            "jobType                357732 non-null object\n",
            "degree                 357732 non-null object\n",
            "major                  357732 non-null object\n",
            "industry               357731 non-null object\n",
            "yearsExperience        357731 non-null float64\n",
            "milesFromMetropolis    357731 non-null float64\n",
            "dtypes: float64(2), object(6)\n",
            "memory usage: 21.8+ MB\n"
          ],
          "name": "stdout"
        }
      ]
    },
    {
      "cell_type": "markdown",
      "metadata": {
        "id": "zB9dTtMekBqo",
        "colab_type": "text"
      },
      "source": [
        "**Check for duplicates**\n",
        "\n",
        "Here, I'll check and remove any duplicate data. "
      ]
    },
    {
      "cell_type": "code",
      "metadata": {
        "id": "k7GpXhGJj0y_",
        "colab_type": "code",
        "outputId": "4614547c-e49a-4543-d695-5d8b831fe31f",
        "colab": {
          "base_uri": "https://localhost:8080/",
          "height": 34
        }
      },
      "source": [
        "train_feature_df.duplicated().sum()"
      ],
      "execution_count": 0,
      "outputs": [
        {
          "output_type": "execute_result",
          "data": {
            "text/plain": [
              "0"
            ]
          },
          "metadata": {
            "tags": []
          },
          "execution_count": 12
        }
      ]
    },
    {
      "cell_type": "code",
      "metadata": {
        "id": "h4UkSA5akf-P",
        "colab_type": "code",
        "outputId": "de18929c-4ec3-4dc9-e684-676f51f4e7dc",
        "colab": {
          "base_uri": "https://localhost:8080/",
          "height": 34
        }
      },
      "source": [
        "train_target_df.duplicated().sum()"
      ],
      "execution_count": 0,
      "outputs": [
        {
          "output_type": "execute_result",
          "data": {
            "text/plain": [
              "0"
            ]
          },
          "metadata": {
            "tags": []
          },
          "execution_count": 13
        }
      ]
    },
    {
      "cell_type": "code",
      "metadata": {
        "id": "GUa2EAkPklpl",
        "colab_type": "code",
        "outputId": "24b5b93a-cd61-40b5-eec7-6321d3883e41",
        "colab": {
          "base_uri": "https://localhost:8080/",
          "height": 34
        }
      },
      "source": [
        "test_feature_df.duplicated().sum()"
      ],
      "execution_count": 0,
      "outputs": [
        {
          "output_type": "execute_result",
          "data": {
            "text/plain": [
              "0"
            ]
          },
          "metadata": {
            "tags": []
          },
          "execution_count": 14
        }
      ]
    },
    {
      "cell_type": "markdown",
      "metadata": {
        "id": "5tR5htX0ktB5",
        "colab_type": "text"
      },
      "source": [
        "From these, it's\n",
        "clear that there are no duplicate data, so I'll keep exploring."
      ]
    },
    {
      "cell_type": "markdown",
      "metadata": {
        "id": "EQ2_X9rnlM49",
        "colab_type": "text"
      },
      "source": [
        "**Identify numerical and categorical variables**\n",
        "\n",
        "This shows all the columns present in this data set."
      ]
    },
    {
      "cell_type": "code",
      "metadata": {
        "id": "OuqynrbPkqth",
        "colab_type": "code",
        "outputId": "3eb94755-28d1-44e2-b85f-2c9d5a950a4f",
        "colab": {
          "base_uri": "https://localhost:8080/",
          "height": 68
        }
      },
      "source": [
        "train_feature_df.columns"
      ],
      "execution_count": 0,
      "outputs": [
        {
          "output_type": "execute_result",
          "data": {
            "text/plain": [
              "Index(['jobId', 'companyId', 'jobType', 'degree', 'major', 'industry',\n",
              "       'yearsExperience', 'milesFromMetropolis'],\n",
              "      dtype='object')"
            ]
          },
          "metadata": {
            "tags": []
          },
          "execution_count": 15
        }
      ]
    },
    {
      "cell_type": "code",
      "metadata": {
        "id": "26b-HOnalPVy",
        "colab_type": "code",
        "colab": {}
      },
      "source": [
        "numeric_cols = ['yearsExperience', 'milesFromMetropolis']"
      ],
      "execution_count": 0,
      "outputs": []
    },
    {
      "cell_type": "code",
      "metadata": {
        "id": "wqiKb0MblvYz",
        "colab_type": "code",
        "colab": {}
      },
      "source": [
        "categorical_cols = ['jobId', 'companyId', 'jobType', 'degree', 'major', 'industry']"
      ],
      "execution_count": 0,
      "outputs": []
    },
    {
      "cell_type": "markdown",
      "metadata": {
        "id": "QDsIQtS1mIg7",
        "colab_type": "text"
      },
      "source": [
        "Group numerical and categorical variables separately"
      ]
    },
    {
      "cell_type": "code",
      "metadata": {
        "id": "iq5xxh6kl94M",
        "colab_type": "code",
        "outputId": "641bf467-422f-49b9-d5e2-47796dd58f72",
        "colab": {
          "base_uri": "https://localhost:8080/",
          "height": 297
        }
      },
      "source": [
        "train_feature_df.describe(include = [np.number])"
      ],
      "execution_count": 0,
      "outputs": [
        {
          "output_type": "execute_result",
          "data": {
            "text/html": [
              "<div>\n",
              "<style scoped>\n",
              "    .dataframe tbody tr th:only-of-type {\n",
              "        vertical-align: middle;\n",
              "    }\n",
              "\n",
              "    .dataframe tbody tr th {\n",
              "        vertical-align: top;\n",
              "    }\n",
              "\n",
              "    .dataframe thead th {\n",
              "        text-align: right;\n",
              "    }\n",
              "</style>\n",
              "<table border=\"1\" class=\"dataframe\">\n",
              "  <thead>\n",
              "    <tr style=\"text-align: right;\">\n",
              "      <th></th>\n",
              "      <th>yearsExperience</th>\n",
              "      <th>milesFromMetropolis</th>\n",
              "    </tr>\n",
              "  </thead>\n",
              "  <tbody>\n",
              "    <tr>\n",
              "      <th>count</th>\n",
              "      <td>322018.000000</td>\n",
              "      <td>322018.000000</td>\n",
              "    </tr>\n",
              "    <tr>\n",
              "      <th>mean</th>\n",
              "      <td>11.982343</td>\n",
              "      <td>49.475924</td>\n",
              "    </tr>\n",
              "    <tr>\n",
              "      <th>std</th>\n",
              "      <td>7.209082</td>\n",
              "      <td>28.888187</td>\n",
              "    </tr>\n",
              "    <tr>\n",
              "      <th>min</th>\n",
              "      <td>0.000000</td>\n",
              "      <td>0.000000</td>\n",
              "    </tr>\n",
              "    <tr>\n",
              "      <th>25%</th>\n",
              "      <td>6.000000</td>\n",
              "      <td>24.000000</td>\n",
              "    </tr>\n",
              "    <tr>\n",
              "      <th>50%</th>\n",
              "      <td>12.000000</td>\n",
              "      <td>49.000000</td>\n",
              "    </tr>\n",
              "    <tr>\n",
              "      <th>75%</th>\n",
              "      <td>18.000000</td>\n",
              "      <td>74.000000</td>\n",
              "    </tr>\n",
              "    <tr>\n",
              "      <th>max</th>\n",
              "      <td>24.000000</td>\n",
              "      <td>99.000000</td>\n",
              "    </tr>\n",
              "  </tbody>\n",
              "</table>\n",
              "</div>"
            ],
            "text/plain": [
              "       yearsExperience  milesFromMetropolis\n",
              "count    322018.000000        322018.000000\n",
              "mean         11.982343            49.475924\n",
              "std           7.209082            28.888187\n",
              "min           0.000000             0.000000\n",
              "25%           6.000000            24.000000\n",
              "50%          12.000000            49.000000\n",
              "75%          18.000000            74.000000\n",
              "max          24.000000            99.000000"
            ]
          },
          "metadata": {
            "tags": []
          },
          "execution_count": 19
        }
      ]
    },
    {
      "cell_type": "code",
      "metadata": {
        "id": "A2VQG4LtmTVW",
        "colab_type": "code",
        "outputId": "0334362b-4482-4680-89f4-1438a60288f3",
        "colab": {
          "base_uri": "https://localhost:8080/",
          "height": 173
        }
      },
      "source": [
        "train_feature_df.describe(include = ['O'])"
      ],
      "execution_count": 0,
      "outputs": [
        {
          "output_type": "execute_result",
          "data": {
            "text/html": [
              "<div>\n",
              "<style scoped>\n",
              "    .dataframe tbody tr th:only-of-type {\n",
              "        vertical-align: middle;\n",
              "    }\n",
              "\n",
              "    .dataframe tbody tr th {\n",
              "        vertical-align: top;\n",
              "    }\n",
              "\n",
              "    .dataframe thead th {\n",
              "        text-align: right;\n",
              "    }\n",
              "</style>\n",
              "<table border=\"1\" class=\"dataframe\">\n",
              "  <thead>\n",
              "    <tr style=\"text-align: right;\">\n",
              "      <th></th>\n",
              "      <th>jobId</th>\n",
              "      <th>companyId</th>\n",
              "      <th>jobType</th>\n",
              "      <th>degree</th>\n",
              "      <th>major</th>\n",
              "      <th>industry</th>\n",
              "    </tr>\n",
              "  </thead>\n",
              "  <tbody>\n",
              "    <tr>\n",
              "      <th>count</th>\n",
              "      <td>322019</td>\n",
              "      <td>322019</td>\n",
              "      <td>322019</td>\n",
              "      <td>322018</td>\n",
              "      <td>322018</td>\n",
              "      <td>322018</td>\n",
              "    </tr>\n",
              "    <tr>\n",
              "      <th>unique</th>\n",
              "      <td>322019</td>\n",
              "      <td>63</td>\n",
              "      <td>9</td>\n",
              "      <td>5</td>\n",
              "      <td>9</td>\n",
              "      <td>7</td>\n",
              "    </tr>\n",
              "    <tr>\n",
              "      <th>top</th>\n",
              "      <td>JOB1362684728673</td>\n",
              "      <td>COMP44</td>\n",
              "      <td>VICE_PRESIDENT</td>\n",
              "      <td>NONE</td>\n",
              "      <td>NONE</td>\n",
              "      <td>FINANCE</td>\n",
              "    </tr>\n",
              "    <tr>\n",
              "      <th>freq</th>\n",
              "      <td>1</td>\n",
              "      <td>5238</td>\n",
              "      <td>40489</td>\n",
              "      <td>76776</td>\n",
              "      <td>171787</td>\n",
              "      <td>46158</td>\n",
              "    </tr>\n",
              "  </tbody>\n",
              "</table>\n",
              "</div>"
            ],
            "text/plain": [
              "                   jobId companyId         jobType  degree   major industry\n",
              "count             322019    322019          322019  322018  322018   322018\n",
              "unique            322019        63               9       5       9        7\n",
              "top     JOB1362684728673    COMP44  VICE_PRESIDENT    NONE    NONE  FINANCE\n",
              "freq                   1      5238           40489   76776  171787    46158"
            ]
          },
          "metadata": {
            "tags": []
          },
          "execution_count": 20
        }
      ]
    },
    {
      "cell_type": "markdown",
      "metadata": {
        "id": "2nl1T1O4rJJ5",
        "colab_type": "text"
      },
      "source": [
        "**Merge features and targets into a single dataframe(df)**"
      ]
    },
    {
      "cell_type": "code",
      "metadata": {
        "id": "n-d2E2_omhFN",
        "colab_type": "code",
        "colab": {}
      },
      "source": [
        "train_df = pd.merge(train_feature_df, train_target_df, on='jobId')"
      ],
      "execution_count": 0,
      "outputs": []
    },
    {
      "cell_type": "code",
      "metadata": {
        "id": "_dKAGU8orNWn",
        "colab_type": "code",
        "outputId": "e4a19b2e-da7e-46f1-8c53-ea3054fcabf0",
        "colab": {
          "base_uri": "https://localhost:8080/",
          "height": 224
        }
      },
      "source": [
        "train_df.head()"
      ],
      "execution_count": 0,
      "outputs": [
        {
          "output_type": "execute_result",
          "data": {
            "text/html": [
              "<div>\n",
              "<style scoped>\n",
              "    .dataframe tbody tr th:only-of-type {\n",
              "        vertical-align: middle;\n",
              "    }\n",
              "\n",
              "    .dataframe tbody tr th {\n",
              "        vertical-align: top;\n",
              "    }\n",
              "\n",
              "    .dataframe thead th {\n",
              "        text-align: right;\n",
              "    }\n",
              "</style>\n",
              "<table border=\"1\" class=\"dataframe\">\n",
              "  <thead>\n",
              "    <tr style=\"text-align: right;\">\n",
              "      <th></th>\n",
              "      <th>jobId</th>\n",
              "      <th>companyId</th>\n",
              "      <th>jobType</th>\n",
              "      <th>degree</th>\n",
              "      <th>major</th>\n",
              "      <th>industry</th>\n",
              "      <th>yearsExperience</th>\n",
              "      <th>milesFromMetropolis</th>\n",
              "      <th>salary</th>\n",
              "    </tr>\n",
              "  </thead>\n",
              "  <tbody>\n",
              "    <tr>\n",
              "      <th>0</th>\n",
              "      <td>JOB1362684407687</td>\n",
              "      <td>COMP37</td>\n",
              "      <td>CFO</td>\n",
              "      <td>MASTERS</td>\n",
              "      <td>MATH</td>\n",
              "      <td>HEALTH</td>\n",
              "      <td>10.0</td>\n",
              "      <td>83.0</td>\n",
              "      <td>130.0</td>\n",
              "    </tr>\n",
              "    <tr>\n",
              "      <th>1</th>\n",
              "      <td>JOB1362684407688</td>\n",
              "      <td>COMP19</td>\n",
              "      <td>CEO</td>\n",
              "      <td>HIGH_SCHOOL</td>\n",
              "      <td>NONE</td>\n",
              "      <td>WEB</td>\n",
              "      <td>3.0</td>\n",
              "      <td>73.0</td>\n",
              "      <td>101.0</td>\n",
              "    </tr>\n",
              "    <tr>\n",
              "      <th>2</th>\n",
              "      <td>JOB1362684407689</td>\n",
              "      <td>COMP52</td>\n",
              "      <td>VICE_PRESIDENT</td>\n",
              "      <td>DOCTORAL</td>\n",
              "      <td>PHYSICS</td>\n",
              "      <td>HEALTH</td>\n",
              "      <td>10.0</td>\n",
              "      <td>38.0</td>\n",
              "      <td>137.0</td>\n",
              "    </tr>\n",
              "    <tr>\n",
              "      <th>3</th>\n",
              "      <td>JOB1362684407690</td>\n",
              "      <td>COMP38</td>\n",
              "      <td>MANAGER</td>\n",
              "      <td>DOCTORAL</td>\n",
              "      <td>CHEMISTRY</td>\n",
              "      <td>AUTO</td>\n",
              "      <td>8.0</td>\n",
              "      <td>17.0</td>\n",
              "      <td>142.0</td>\n",
              "    </tr>\n",
              "    <tr>\n",
              "      <th>4</th>\n",
              "      <td>JOB1362684407691</td>\n",
              "      <td>COMP7</td>\n",
              "      <td>VICE_PRESIDENT</td>\n",
              "      <td>BACHELORS</td>\n",
              "      <td>PHYSICS</td>\n",
              "      <td>FINANCE</td>\n",
              "      <td>8.0</td>\n",
              "      <td>16.0</td>\n",
              "      <td>163.0</td>\n",
              "    </tr>\n",
              "  </tbody>\n",
              "</table>\n",
              "</div>"
            ],
            "text/plain": [
              "              jobId companyId  ... milesFromMetropolis salary\n",
              "0  JOB1362684407687    COMP37  ...                83.0  130.0\n",
              "1  JOB1362684407688    COMP19  ...                73.0  101.0\n",
              "2  JOB1362684407689    COMP52  ...                38.0  137.0\n",
              "3  JOB1362684407690    COMP38  ...                17.0  142.0\n",
              "4  JOB1362684407691     COMP7  ...                16.0  163.0\n",
              "\n",
              "[5 rows x 9 columns]"
            ]
          },
          "metadata": {
            "tags": []
          },
          "execution_count": 22
        }
      ]
    },
    {
      "cell_type": "code",
      "metadata": {
        "id": "0ztbllj5rfqb",
        "colab_type": "code",
        "outputId": "bfbd3c6d-044c-44b0-de5c-6617f35f06b0",
        "colab": {
          "base_uri": "https://localhost:8080/",
          "height": 255
        }
      },
      "source": [
        "train_df.info()"
      ],
      "execution_count": 0,
      "outputs": [
        {
          "output_type": "stream",
          "text": [
            "<class 'pandas.core.frame.DataFrame'>\n",
            "Int64Index: 322019 entries, 0 to 322018\n",
            "Data columns (total 9 columns):\n",
            "jobId                  322019 non-null object\n",
            "companyId              322019 non-null object\n",
            "jobType                322019 non-null object\n",
            "degree                 322018 non-null object\n",
            "major                  322018 non-null object\n",
            "industry               322018 non-null object\n",
            "yearsExperience        322018 non-null float64\n",
            "milesFromMetropolis    322018 non-null float64\n",
            "salary                 322019 non-null float64\n",
            "dtypes: float64(3), object(6)\n",
            "memory usage: 24.6+ MB\n"
          ],
          "name": "stdout"
        }
      ]
    },
    {
      "cell_type": "markdown",
      "metadata": {
        "id": "0y6pGMhjrxYk",
        "colab_type": "text"
      },
      "source": [
        "**Visualizing target variable (salary)**"
      ]
    },
    {
      "cell_type": "code",
      "metadata": {
        "id": "sdMq39R0r018",
        "colab_type": "code",
        "outputId": "b74fd45e-4e69-4940-9a85-416ffabe7bb7",
        "colab": {
          "base_uri": "https://localhost:8080/",
          "height": 392
        }
      },
      "source": [
        "plt.figure(figsize = (14, 6))\n",
        "plt.subplot(1,2,1)\n",
        "sns.boxplot(train_df.salary)\n",
        "plt.subplot(1,2,2)\n",
        "sns.distplot(train_df.salary, bins=20)\n",
        "plt.show()"
      ],
      "execution_count": 0,
      "outputs": [
        {
          "output_type": "display_data",
          "data": {
            "image/png": "[encoded data removed]",
            "text/plain": [
              "<Figure size 1008x432 with 2 Axes>"
            ]
          },
          "metadata": {
            "tags": []
          }
        }
      ]
    },
    {
      "cell_type": "markdown",
      "metadata": {
        "id": "DRpZwmzCsJxU",
        "colab_type": "text"
      },
      "source": [
        "**Using the IQR(Interquartile) rule to identify any potential outliers**\n",
        "\n"
      ]
    },
    {
      "cell_type": "code",
      "metadata": {
        "id": "DxAK-bNDsOKT",
        "colab_type": "code",
        "outputId": "403c883c-bf73-4a3b-d396-f1457e584863",
        "colab": {
          "base_uri": "https://localhost:8080/",
          "height": 187
        }
      },
      "source": [
        "stat = train_df.salary.describe()\n",
        "print(stat)\n",
        "IQR = stat['75%'] - stat['25%']\n",
        "upper = stat['75%'] + 1.5 * IQR\n",
        "lower = stat['25%'] - 1.5 * IQR\n",
        "print('The upper and lower bounds for suspected outliers are {} and {}.'.format(upper, lower))"
      ],
      "execution_count": 0,
      "outputs": [
        {
          "output_type": "stream",
          "text": [
            "count    322019.000000\n",
            "mean        116.067561\n",
            "std          38.773212\n",
            "min           0.000000\n",
            "25%          88.000000\n",
            "50%         114.000000\n",
            "75%         141.000000\n",
            "max         294.000000\n",
            "Name: salary, dtype: float64\n",
            "The upper and lower bounds for suspected outliers are 220.5 and 8.5.\n"
          ],
          "name": "stdout"
        }
      ]
    },
    {
      "cell_type": "markdown",
      "metadata": {
        "id": "fj-d0YzEtzhf",
        "colab_type": "text"
      },
      "source": [
        "**Examining potential outliers**\n",
        "\n",
        "Here, I want to see if there are values that fall outside of the overall pattern of our data."
      ]
    },
    {
      "cell_type": "code",
      "metadata": {
        "id": "RgklKWhss3ck",
        "colab_type": "code",
        "outputId": "f2eb4ba1-b12a-4eed-e34e-b44e8c77abb5",
        "colab": {
          "base_uri": "https://localhost:8080/",
          "height": 100
        }
      },
      "source": [
        "#checking for any potential outlier below lower bound\n",
        "train_df[train_df.salary < 8.5]"
      ],
      "execution_count": 0,
      "outputs": [
        {
          "output_type": "execute_result",
          "data": {
            "text/html": [
              "<div>\n",
              "<style scoped>\n",
              "    .dataframe tbody tr th:only-of-type {\n",
              "        vertical-align: middle;\n",
              "    }\n",
              "\n",
              "    .dataframe tbody tr th {\n",
              "        vertical-align: top;\n",
              "    }\n",
              "\n",
              "    .dataframe thead th {\n",
              "        text-align: right;\n",
              "    }\n",
              "</style>\n",
              "<table border=\"1\" class=\"dataframe\">\n",
              "  <thead>\n",
              "    <tr style=\"text-align: right;\">\n",
              "      <th></th>\n",
              "      <th>jobId</th>\n",
              "      <th>companyId</th>\n",
              "      <th>jobType</th>\n",
              "      <th>degree</th>\n",
              "      <th>major</th>\n",
              "      <th>industry</th>\n",
              "      <th>yearsExperience</th>\n",
              "      <th>milesFromMetropolis</th>\n",
              "      <th>salary</th>\n",
              "    </tr>\n",
              "  </thead>\n",
              "  <tbody>\n",
              "    <tr>\n",
              "      <th>30559</th>\n",
              "      <td>JOB1362684438246</td>\n",
              "      <td>COMP44</td>\n",
              "      <td>JUNIOR</td>\n",
              "      <td>DOCTORAL</td>\n",
              "      <td>MATH</td>\n",
              "      <td>AUTO</td>\n",
              "      <td>11.0</td>\n",
              "      <td>7.0</td>\n",
              "      <td>0.0</td>\n",
              "    </tr>\n",
              "  </tbody>\n",
              "</table>\n",
              "</div>"
            ],
            "text/plain": [
              "                  jobId companyId  ... milesFromMetropolis salary\n",
              "30559  JOB1362684438246    COMP44  ...                 7.0    0.0\n",
              "\n",
              "[1 rows x 9 columns]"
            ]
          },
          "metadata": {
            "tags": []
          },
          "execution_count": 26
        }
      ]
    },
    {
      "cell_type": "code",
      "metadata": {
        "id": "R7sO-MWkt2-8",
        "colab_type": "code",
        "outputId": "50b7f2e0-dc65-486f-9d9b-946dd5095d58",
        "colab": {
          "base_uri": "https://localhost:8080/",
          "height": 1000
        }
      },
      "source": [
        "#checking for any potential outlier above upper bound\n",
        "train_df[(train_df.salary > 222.5)]"
      ],
      "execution_count": 0,
      "outputs": [
        {
          "output_type": "execute_result",
          "data": {
            "text/html": [
              "<div>\n",
              "<style scoped>\n",
              "    .dataframe tbody tr th:only-of-type {\n",
              "        vertical-align: middle;\n",
              "    }\n",
              "\n",
              "    .dataframe tbody tr th {\n",
              "        vertical-align: top;\n",
              "    }\n",
              "\n",
              "    .dataframe thead th {\n",
              "        text-align: right;\n",
              "    }\n",
              "</style>\n",
              "<table border=\"1\" class=\"dataframe\">\n",
              "  <thead>\n",
              "    <tr style=\"text-align: right;\">\n",
              "      <th></th>\n",
              "      <th>jobId</th>\n",
              "      <th>companyId</th>\n",
              "      <th>jobType</th>\n",
              "      <th>degree</th>\n",
              "      <th>major</th>\n",
              "      <th>industry</th>\n",
              "      <th>yearsExperience</th>\n",
              "      <th>milesFromMetropolis</th>\n",
              "      <th>salary</th>\n",
              "    </tr>\n",
              "  </thead>\n",
              "  <tbody>\n",
              "    <tr>\n",
              "      <th>266</th>\n",
              "      <td>JOB1362684407953</td>\n",
              "      <td>COMP30</td>\n",
              "      <td>CEO</td>\n",
              "      <td>MASTERS</td>\n",
              "      <td>BIOLOGY</td>\n",
              "      <td>OIL</td>\n",
              "      <td>23.0</td>\n",
              "      <td>60.0</td>\n",
              "      <td>223.0</td>\n",
              "    </tr>\n",
              "    <tr>\n",
              "      <th>362</th>\n",
              "      <td>JOB1362684408049</td>\n",
              "      <td>COMP38</td>\n",
              "      <td>CTO</td>\n",
              "      <td>MASTERS</td>\n",
              "      <td>NONE</td>\n",
              "      <td>HEALTH</td>\n",
              "      <td>24.0</td>\n",
              "      <td>3.0</td>\n",
              "      <td>223.0</td>\n",
              "    </tr>\n",
              "    <tr>\n",
              "      <th>560</th>\n",
              "      <td>JOB1362684408247</td>\n",
              "      <td>COMP53</td>\n",
              "      <td>CEO</td>\n",
              "      <td>MASTERS</td>\n",
              "      <td>BIOLOGY</td>\n",
              "      <td>WEB</td>\n",
              "      <td>22.0</td>\n",
              "      <td>7.0</td>\n",
              "      <td>248.0</td>\n",
              "    </tr>\n",
              "    <tr>\n",
              "      <th>670</th>\n",
              "      <td>JOB1362684408357</td>\n",
              "      <td>COMP26</td>\n",
              "      <td>CEO</td>\n",
              "      <td>MASTERS</td>\n",
              "      <td>MATH</td>\n",
              "      <td>AUTO</td>\n",
              "      <td>23.0</td>\n",
              "      <td>9.0</td>\n",
              "      <td>240.0</td>\n",
              "    </tr>\n",
              "    <tr>\n",
              "      <th>719</th>\n",
              "      <td>JOB1362684408406</td>\n",
              "      <td>COMP54</td>\n",
              "      <td>VICE_PRESIDENT</td>\n",
              "      <td>DOCTORAL</td>\n",
              "      <td>BIOLOGY</td>\n",
              "      <td>OIL</td>\n",
              "      <td>21.0</td>\n",
              "      <td>14.0</td>\n",
              "      <td>225.0</td>\n",
              "    </tr>\n",
              "    <tr>\n",
              "      <th>966</th>\n",
              "      <td>JOB1362684408653</td>\n",
              "      <td>COMP32</td>\n",
              "      <td>CEO</td>\n",
              "      <td>DOCTORAL</td>\n",
              "      <td>ENGINEERING</td>\n",
              "      <td>FINANCE</td>\n",
              "      <td>23.0</td>\n",
              "      <td>11.0</td>\n",
              "      <td>247.0</td>\n",
              "    </tr>\n",
              "    <tr>\n",
              "      <th>986</th>\n",
              "      <td>JOB1362684408673</td>\n",
              "      <td>COMP37</td>\n",
              "      <td>CFO</td>\n",
              "      <td>HIGH_SCHOOL</td>\n",
              "      <td>NONE</td>\n",
              "      <td>FINANCE</td>\n",
              "      <td>24.0</td>\n",
              "      <td>20.0</td>\n",
              "      <td>229.0</td>\n",
              "    </tr>\n",
              "    <tr>\n",
              "      <th>1211</th>\n",
              "      <td>JOB1362684408898</td>\n",
              "      <td>COMP24</td>\n",
              "      <td>CTO</td>\n",
              "      <td>DOCTORAL</td>\n",
              "      <td>BUSINESS</td>\n",
              "      <td>FINANCE</td>\n",
              "      <td>5.0</td>\n",
              "      <td>46.0</td>\n",
              "      <td>232.0</td>\n",
              "    </tr>\n",
              "    <tr>\n",
              "      <th>1222</th>\n",
              "      <td>JOB1362684408909</td>\n",
              "      <td>COMP40</td>\n",
              "      <td>JUNIOR</td>\n",
              "      <td>MASTERS</td>\n",
              "      <td>COMPSCI</td>\n",
              "      <td>OIL</td>\n",
              "      <td>24.0</td>\n",
              "      <td>5.0</td>\n",
              "      <td>225.0</td>\n",
              "    </tr>\n",
              "    <tr>\n",
              "      <th>1413</th>\n",
              "      <td>JOB1362684409100</td>\n",
              "      <td>COMP56</td>\n",
              "      <td>VICE_PRESIDENT</td>\n",
              "      <td>MASTERS</td>\n",
              "      <td>MATH</td>\n",
              "      <td>WEB</td>\n",
              "      <td>24.0</td>\n",
              "      <td>15.0</td>\n",
              "      <td>241.0</td>\n",
              "    </tr>\n",
              "    <tr>\n",
              "      <th>1500</th>\n",
              "      <td>JOB1362684409187</td>\n",
              "      <td>COMP40</td>\n",
              "      <td>CTO</td>\n",
              "      <td>BACHELORS</td>\n",
              "      <td>PHYSICS</td>\n",
              "      <td>HEALTH</td>\n",
              "      <td>23.0</td>\n",
              "      <td>12.0</td>\n",
              "      <td>225.0</td>\n",
              "    </tr>\n",
              "    <tr>\n",
              "      <th>1577</th>\n",
              "      <td>JOB1362684409264</td>\n",
              "      <td>COMP50</td>\n",
              "      <td>CEO</td>\n",
              "      <td>HIGH_SCHOOL</td>\n",
              "      <td>NONE</td>\n",
              "      <td>HEALTH</td>\n",
              "      <td>19.0</td>\n",
              "      <td>7.0</td>\n",
              "      <td>238.0</td>\n",
              "    </tr>\n",
              "    <tr>\n",
              "      <th>1827</th>\n",
              "      <td>JOB1362684409514</td>\n",
              "      <td>COMP33</td>\n",
              "      <td>CFO</td>\n",
              "      <td>HIGH_SCHOOL</td>\n",
              "      <td>NONE</td>\n",
              "      <td>OIL</td>\n",
              "      <td>23.0</td>\n",
              "      <td>16.0</td>\n",
              "      <td>234.0</td>\n",
              "    </tr>\n",
              "    <tr>\n",
              "      <th>1907</th>\n",
              "      <td>JOB1362684409594</td>\n",
              "      <td>COMP4</td>\n",
              "      <td>CFO</td>\n",
              "      <td>BACHELORS</td>\n",
              "      <td>ENGINEERING</td>\n",
              "      <td>FINANCE</td>\n",
              "      <td>21.0</td>\n",
              "      <td>21.0</td>\n",
              "      <td>243.0</td>\n",
              "    </tr>\n",
              "    <tr>\n",
              "      <th>2116</th>\n",
              "      <td>JOB1362684409803</td>\n",
              "      <td>COMP3</td>\n",
              "      <td>CFO</td>\n",
              "      <td>DOCTORAL</td>\n",
              "      <td>ENGINEERING</td>\n",
              "      <td>AUTO</td>\n",
              "      <td>22.0</td>\n",
              "      <td>16.0</td>\n",
              "      <td>237.0</td>\n",
              "    </tr>\n",
              "    <tr>\n",
              "      <th>2217</th>\n",
              "      <td>JOB1362684409904</td>\n",
              "      <td>COMP45</td>\n",
              "      <td>VICE_PRESIDENT</td>\n",
              "      <td>DOCTORAL</td>\n",
              "      <td>BUSINESS</td>\n",
              "      <td>AUTO</td>\n",
              "      <td>24.0</td>\n",
              "      <td>4.0</td>\n",
              "      <td>232.0</td>\n",
              "    </tr>\n",
              "    <tr>\n",
              "      <th>2356</th>\n",
              "      <td>JOB1362684410043</td>\n",
              "      <td>COMP3</td>\n",
              "      <td>CFO</td>\n",
              "      <td>BACHELORS</td>\n",
              "      <td>MATH</td>\n",
              "      <td>WEB</td>\n",
              "      <td>20.0</td>\n",
              "      <td>22.0</td>\n",
              "      <td>230.0</td>\n",
              "    </tr>\n",
              "    <tr>\n",
              "      <th>2396</th>\n",
              "      <td>JOB1362684410083</td>\n",
              "      <td>COMP8</td>\n",
              "      <td>CTO</td>\n",
              "      <td>BACHELORS</td>\n",
              "      <td>ENGINEERING</td>\n",
              "      <td>WEB</td>\n",
              "      <td>9.0</td>\n",
              "      <td>7.0</td>\n",
              "      <td>231.0</td>\n",
              "    </tr>\n",
              "    <tr>\n",
              "      <th>2576</th>\n",
              "      <td>JOB1362684410263</td>\n",
              "      <td>COMP16</td>\n",
              "      <td>CTO</td>\n",
              "      <td>MASTERS</td>\n",
              "      <td>COMPSCI</td>\n",
              "      <td>AUTO</td>\n",
              "      <td>23.0</td>\n",
              "      <td>10.0</td>\n",
              "      <td>230.0</td>\n",
              "    </tr>\n",
              "    <tr>\n",
              "      <th>3066</th>\n",
              "      <td>JOB1362684410753</td>\n",
              "      <td>COMP44</td>\n",
              "      <td>CFO</td>\n",
              "      <td>DOCTORAL</td>\n",
              "      <td>ENGINEERING</td>\n",
              "      <td>FINANCE</td>\n",
              "      <td>13.0</td>\n",
              "      <td>17.0</td>\n",
              "      <td>233.0</td>\n",
              "    </tr>\n",
              "    <tr>\n",
              "      <th>3098</th>\n",
              "      <td>JOB1362684410785</td>\n",
              "      <td>COMP45</td>\n",
              "      <td>CTO</td>\n",
              "      <td>DOCTORAL</td>\n",
              "      <td>COMPSCI</td>\n",
              "      <td>OIL</td>\n",
              "      <td>20.0</td>\n",
              "      <td>4.0</td>\n",
              "      <td>254.0</td>\n",
              "    </tr>\n",
              "    <tr>\n",
              "      <th>3517</th>\n",
              "      <td>JOB1362684411204</td>\n",
              "      <td>COMP58</td>\n",
              "      <td>CEO</td>\n",
              "      <td>MASTERS</td>\n",
              "      <td>ENGINEERING</td>\n",
              "      <td>OIL</td>\n",
              "      <td>24.0</td>\n",
              "      <td>0.0</td>\n",
              "      <td>235.0</td>\n",
              "    </tr>\n",
              "    <tr>\n",
              "      <th>3606</th>\n",
              "      <td>JOB1362684411293</td>\n",
              "      <td>COMP42</td>\n",
              "      <td>VICE_PRESIDENT</td>\n",
              "      <td>DOCTORAL</td>\n",
              "      <td>BIOLOGY</td>\n",
              "      <td>HEALTH</td>\n",
              "      <td>21.0</td>\n",
              "      <td>19.0</td>\n",
              "      <td>243.0</td>\n",
              "    </tr>\n",
              "    <tr>\n",
              "      <th>3623</th>\n",
              "      <td>JOB1362684411310</td>\n",
              "      <td>COMP51</td>\n",
              "      <td>CFO</td>\n",
              "      <td>DOCTORAL</td>\n",
              "      <td>MATH</td>\n",
              "      <td>FINANCE</td>\n",
              "      <td>23.0</td>\n",
              "      <td>30.0</td>\n",
              "      <td>229.0</td>\n",
              "    </tr>\n",
              "    <tr>\n",
              "      <th>4016</th>\n",
              "      <td>JOB1362684411703</td>\n",
              "      <td>COMP19</td>\n",
              "      <td>CFO</td>\n",
              "      <td>DOCTORAL</td>\n",
              "      <td>NONE</td>\n",
              "      <td>FINANCE</td>\n",
              "      <td>18.0</td>\n",
              "      <td>1.0</td>\n",
              "      <td>239.0</td>\n",
              "    </tr>\n",
              "    <tr>\n",
              "      <th>4072</th>\n",
              "      <td>JOB1362684411759</td>\n",
              "      <td>COMP56</td>\n",
              "      <td>VICE_PRESIDENT</td>\n",
              "      <td>MASTERS</td>\n",
              "      <td>ENGINEERING</td>\n",
              "      <td>OIL</td>\n",
              "      <td>20.0</td>\n",
              "      <td>14.0</td>\n",
              "      <td>226.0</td>\n",
              "    </tr>\n",
              "    <tr>\n",
              "      <th>4154</th>\n",
              "      <td>JOB1362684411841</td>\n",
              "      <td>COMP39</td>\n",
              "      <td>CEO</td>\n",
              "      <td>BACHELORS</td>\n",
              "      <td>COMPSCI</td>\n",
              "      <td>FINANCE</td>\n",
              "      <td>19.0</td>\n",
              "      <td>29.0</td>\n",
              "      <td>243.0</td>\n",
              "    </tr>\n",
              "    <tr>\n",
              "      <th>4299</th>\n",
              "      <td>JOB1362684411986</td>\n",
              "      <td>COMP47</td>\n",
              "      <td>VICE_PRESIDENT</td>\n",
              "      <td>DOCTORAL</td>\n",
              "      <td>ENGINEERING</td>\n",
              "      <td>WEB</td>\n",
              "      <td>17.0</td>\n",
              "      <td>18.0</td>\n",
              "      <td>229.0</td>\n",
              "    </tr>\n",
              "    <tr>\n",
              "      <th>4438</th>\n",
              "      <td>JOB1362684412125</td>\n",
              "      <td>COMP43</td>\n",
              "      <td>CEO</td>\n",
              "      <td>MASTERS</td>\n",
              "      <td>BUSINESS</td>\n",
              "      <td>OIL</td>\n",
              "      <td>24.0</td>\n",
              "      <td>15.0</td>\n",
              "      <td>259.0</td>\n",
              "    </tr>\n",
              "    <tr>\n",
              "      <th>4501</th>\n",
              "      <td>JOB1362684412188</td>\n",
              "      <td>COMP9</td>\n",
              "      <td>CEO</td>\n",
              "      <td>MASTERS</td>\n",
              "      <td>MATH</td>\n",
              "      <td>FINANCE</td>\n",
              "      <td>22.0</td>\n",
              "      <td>13.0</td>\n",
              "      <td>259.0</td>\n",
              "    </tr>\n",
              "    <tr>\n",
              "      <th>...</th>\n",
              "      <td>...</td>\n",
              "      <td>...</td>\n",
              "      <td>...</td>\n",
              "      <td>...</td>\n",
              "      <td>...</td>\n",
              "      <td>...</td>\n",
              "      <td>...</td>\n",
              "      <td>...</td>\n",
              "      <td>...</td>\n",
              "    </tr>\n",
              "    <tr>\n",
              "      <th>318703</th>\n",
              "      <td>JOB1362684726390</td>\n",
              "      <td>COMP43</td>\n",
              "      <td>CTO</td>\n",
              "      <td>MASTERS</td>\n",
              "      <td>ENGINEERING</td>\n",
              "      <td>WEB</td>\n",
              "      <td>17.0</td>\n",
              "      <td>34.0</td>\n",
              "      <td>224.0</td>\n",
              "    </tr>\n",
              "    <tr>\n",
              "      <th>318797</th>\n",
              "      <td>JOB1362684726484</td>\n",
              "      <td>COMP31</td>\n",
              "      <td>CEO</td>\n",
              "      <td>MASTERS</td>\n",
              "      <td>BIOLOGY</td>\n",
              "      <td>OIL</td>\n",
              "      <td>20.0</td>\n",
              "      <td>15.0</td>\n",
              "      <td>244.0</td>\n",
              "    </tr>\n",
              "    <tr>\n",
              "      <th>318798</th>\n",
              "      <td>JOB1362684726485</td>\n",
              "      <td>COMP47</td>\n",
              "      <td>CTO</td>\n",
              "      <td>BACHELORS</td>\n",
              "      <td>ENGINEERING</td>\n",
              "      <td>OIL</td>\n",
              "      <td>18.0</td>\n",
              "      <td>34.0</td>\n",
              "      <td>227.0</td>\n",
              "    </tr>\n",
              "    <tr>\n",
              "      <th>318845</th>\n",
              "      <td>JOB1362684726532</td>\n",
              "      <td>COMP37</td>\n",
              "      <td>CFO</td>\n",
              "      <td>DOCTORAL</td>\n",
              "      <td>BUSINESS</td>\n",
              "      <td>OIL</td>\n",
              "      <td>20.0</td>\n",
              "      <td>19.0</td>\n",
              "      <td>227.0</td>\n",
              "    </tr>\n",
              "    <tr>\n",
              "      <th>318889</th>\n",
              "      <td>JOB1362684726576</td>\n",
              "      <td>COMP10</td>\n",
              "      <td>CEO</td>\n",
              "      <td>NONE</td>\n",
              "      <td>NONE</td>\n",
              "      <td>FINANCE</td>\n",
              "      <td>19.0</td>\n",
              "      <td>8.0</td>\n",
              "      <td>235.0</td>\n",
              "    </tr>\n",
              "    <tr>\n",
              "      <th>318952</th>\n",
              "      <td>JOB1362684726639</td>\n",
              "      <td>COMP19</td>\n",
              "      <td>CTO</td>\n",
              "      <td>DOCTORAL</td>\n",
              "      <td>ENGINEERING</td>\n",
              "      <td>FINANCE</td>\n",
              "      <td>18.0</td>\n",
              "      <td>29.0</td>\n",
              "      <td>235.0</td>\n",
              "    </tr>\n",
              "    <tr>\n",
              "      <th>319027</th>\n",
              "      <td>JOB1362684726714</td>\n",
              "      <td>COMP54</td>\n",
              "      <td>CFO</td>\n",
              "      <td>MASTERS</td>\n",
              "      <td>MATH</td>\n",
              "      <td>OIL</td>\n",
              "      <td>19.0</td>\n",
              "      <td>0.0</td>\n",
              "      <td>258.0</td>\n",
              "    </tr>\n",
              "    <tr>\n",
              "      <th>319072</th>\n",
              "      <td>JOB1362684726759</td>\n",
              "      <td>COMP38</td>\n",
              "      <td>VICE_PRESIDENT</td>\n",
              "      <td>HIGH_SCHOOL</td>\n",
              "      <td>NONE</td>\n",
              "      <td>FINANCE</td>\n",
              "      <td>24.0</td>\n",
              "      <td>4.0</td>\n",
              "      <td>224.0</td>\n",
              "    </tr>\n",
              "    <tr>\n",
              "      <th>319075</th>\n",
              "      <td>JOB1362684726762</td>\n",
              "      <td>COMP2</td>\n",
              "      <td>CEO</td>\n",
              "      <td>DOCTORAL</td>\n",
              "      <td>ENGINEERING</td>\n",
              "      <td>WEB</td>\n",
              "      <td>24.0</td>\n",
              "      <td>3.0</td>\n",
              "      <td>226.0</td>\n",
              "    </tr>\n",
              "    <tr>\n",
              "      <th>319113</th>\n",
              "      <td>JOB1362684726800</td>\n",
              "      <td>COMP24</td>\n",
              "      <td>CEO</td>\n",
              "      <td>DOCTORAL</td>\n",
              "      <td>MATH</td>\n",
              "      <td>WEB</td>\n",
              "      <td>24.0</td>\n",
              "      <td>2.0</td>\n",
              "      <td>265.0</td>\n",
              "    </tr>\n",
              "    <tr>\n",
              "      <th>319341</th>\n",
              "      <td>JOB1362684727028</td>\n",
              "      <td>COMP3</td>\n",
              "      <td>CTO</td>\n",
              "      <td>MASTERS</td>\n",
              "      <td>BUSINESS</td>\n",
              "      <td>FINANCE</td>\n",
              "      <td>14.0</td>\n",
              "      <td>37.0</td>\n",
              "      <td>228.0</td>\n",
              "    </tr>\n",
              "    <tr>\n",
              "      <th>319374</th>\n",
              "      <td>JOB1362684727061</td>\n",
              "      <td>COMP35</td>\n",
              "      <td>CFO</td>\n",
              "      <td>BACHELORS</td>\n",
              "      <td>PHYSICS</td>\n",
              "      <td>FINANCE</td>\n",
              "      <td>18.0</td>\n",
              "      <td>9.0</td>\n",
              "      <td>233.0</td>\n",
              "    </tr>\n",
              "    <tr>\n",
              "      <th>319455</th>\n",
              "      <td>JOB1362684727142</td>\n",
              "      <td>COMP35</td>\n",
              "      <td>CEO</td>\n",
              "      <td>DOCTORAL</td>\n",
              "      <td>MATH</td>\n",
              "      <td>FINANCE</td>\n",
              "      <td>17.0</td>\n",
              "      <td>37.0</td>\n",
              "      <td>240.0</td>\n",
              "    </tr>\n",
              "    <tr>\n",
              "      <th>319583</th>\n",
              "      <td>JOB1362684727270</td>\n",
              "      <td>COMP15</td>\n",
              "      <td>CTO</td>\n",
              "      <td>BACHELORS</td>\n",
              "      <td>COMPSCI</td>\n",
              "      <td>FINANCE</td>\n",
              "      <td>23.0</td>\n",
              "      <td>1.0</td>\n",
              "      <td>223.0</td>\n",
              "    </tr>\n",
              "    <tr>\n",
              "      <th>319625</th>\n",
              "      <td>JOB1362684727312</td>\n",
              "      <td>COMP52</td>\n",
              "      <td>CEO</td>\n",
              "      <td>BACHELORS</td>\n",
              "      <td>BIOLOGY</td>\n",
              "      <td>HEALTH</td>\n",
              "      <td>24.0</td>\n",
              "      <td>2.0</td>\n",
              "      <td>267.0</td>\n",
              "    </tr>\n",
              "    <tr>\n",
              "      <th>319652</th>\n",
              "      <td>JOB1362684727339</td>\n",
              "      <td>COMP62</td>\n",
              "      <td>CEO</td>\n",
              "      <td>BACHELORS</td>\n",
              "      <td>COMPSCI</td>\n",
              "      <td>FINANCE</td>\n",
              "      <td>15.0</td>\n",
              "      <td>5.0</td>\n",
              "      <td>254.0</td>\n",
              "    </tr>\n",
              "    <tr>\n",
              "      <th>319786</th>\n",
              "      <td>JOB1362684727473</td>\n",
              "      <td>COMP54</td>\n",
              "      <td>CEO</td>\n",
              "      <td>DOCTORAL</td>\n",
              "      <td>LITERATURE</td>\n",
              "      <td>FINANCE</td>\n",
              "      <td>24.0</td>\n",
              "      <td>13.0</td>\n",
              "      <td>253.0</td>\n",
              "    </tr>\n",
              "    <tr>\n",
              "      <th>320521</th>\n",
              "      <td>JOB1362684728208</td>\n",
              "      <td>COMP46</td>\n",
              "      <td>CEO</td>\n",
              "      <td>BACHELORS</td>\n",
              "      <td>CHEMISTRY</td>\n",
              "      <td>FINANCE</td>\n",
              "      <td>20.0</td>\n",
              "      <td>42.0</td>\n",
              "      <td>243.0</td>\n",
              "    </tr>\n",
              "    <tr>\n",
              "      <th>320621</th>\n",
              "      <td>JOB1362684728308</td>\n",
              "      <td>COMP52</td>\n",
              "      <td>CFO</td>\n",
              "      <td>MASTERS</td>\n",
              "      <td>CHEMISTRY</td>\n",
              "      <td>FINANCE</td>\n",
              "      <td>24.0</td>\n",
              "      <td>2.0</td>\n",
              "      <td>241.0</td>\n",
              "    </tr>\n",
              "    <tr>\n",
              "      <th>321152</th>\n",
              "      <td>JOB1362684728839</td>\n",
              "      <td>COMP40</td>\n",
              "      <td>CFO</td>\n",
              "      <td>DOCTORAL</td>\n",
              "      <td>PHYSICS</td>\n",
              "      <td>OIL</td>\n",
              "      <td>21.0</td>\n",
              "      <td>13.0</td>\n",
              "      <td>229.0</td>\n",
              "    </tr>\n",
              "    <tr>\n",
              "      <th>321236</th>\n",
              "      <td>JOB1362684728923</td>\n",
              "      <td>COMP18</td>\n",
              "      <td>CEO</td>\n",
              "      <td>MASTERS</td>\n",
              "      <td>BUSINESS</td>\n",
              "      <td>OIL</td>\n",
              "      <td>22.0</td>\n",
              "      <td>3.0</td>\n",
              "      <td>223.0</td>\n",
              "    </tr>\n",
              "    <tr>\n",
              "      <th>321264</th>\n",
              "      <td>JOB1362684728951</td>\n",
              "      <td>COMP5</td>\n",
              "      <td>CFO</td>\n",
              "      <td>BACHELORS</td>\n",
              "      <td>PHYSICS</td>\n",
              "      <td>WEB</td>\n",
              "      <td>24.0</td>\n",
              "      <td>2.0</td>\n",
              "      <td>259.0</td>\n",
              "    </tr>\n",
              "    <tr>\n",
              "      <th>321291</th>\n",
              "      <td>JOB1362684728978</td>\n",
              "      <td>COMP57</td>\n",
              "      <td>VICE_PRESIDENT</td>\n",
              "      <td>DOCTORAL</td>\n",
              "      <td>ENGINEERING</td>\n",
              "      <td>FINANCE</td>\n",
              "      <td>24.0</td>\n",
              "      <td>33.0</td>\n",
              "      <td>252.0</td>\n",
              "    </tr>\n",
              "    <tr>\n",
              "      <th>321385</th>\n",
              "      <td>JOB1362684729072</td>\n",
              "      <td>COMP52</td>\n",
              "      <td>CFO</td>\n",
              "      <td>DOCTORAL</td>\n",
              "      <td>BUSINESS</td>\n",
              "      <td>OIL</td>\n",
              "      <td>20.0</td>\n",
              "      <td>44.0</td>\n",
              "      <td>225.0</td>\n",
              "    </tr>\n",
              "    <tr>\n",
              "      <th>321486</th>\n",
              "      <td>JOB1362684729173</td>\n",
              "      <td>COMP42</td>\n",
              "      <td>CEO</td>\n",
              "      <td>MASTERS</td>\n",
              "      <td>MATH</td>\n",
              "      <td>OIL</td>\n",
              "      <td>18.0</td>\n",
              "      <td>25.0</td>\n",
              "      <td>226.0</td>\n",
              "    </tr>\n",
              "    <tr>\n",
              "      <th>321722</th>\n",
              "      <td>JOB1362684729409</td>\n",
              "      <td>COMP23</td>\n",
              "      <td>CEO</td>\n",
              "      <td>DOCTORAL</td>\n",
              "      <td>BUSINESS</td>\n",
              "      <td>SERVICE</td>\n",
              "      <td>19.0</td>\n",
              "      <td>9.0</td>\n",
              "      <td>235.0</td>\n",
              "    </tr>\n",
              "    <tr>\n",
              "      <th>321789</th>\n",
              "      <td>JOB1362684729476</td>\n",
              "      <td>COMP48</td>\n",
              "      <td>CEO</td>\n",
              "      <td>MASTERS</td>\n",
              "      <td>ENGINEERING</td>\n",
              "      <td>OIL</td>\n",
              "      <td>15.0</td>\n",
              "      <td>69.0</td>\n",
              "      <td>245.0</td>\n",
              "    </tr>\n",
              "    <tr>\n",
              "      <th>321795</th>\n",
              "      <td>JOB1362684729482</td>\n",
              "      <td>COMP22</td>\n",
              "      <td>CEO</td>\n",
              "      <td>DOCTORAL</td>\n",
              "      <td>NONE</td>\n",
              "      <td>FINANCE</td>\n",
              "      <td>18.0</td>\n",
              "      <td>1.0</td>\n",
              "      <td>238.0</td>\n",
              "    </tr>\n",
              "    <tr>\n",
              "      <th>321807</th>\n",
              "      <td>JOB1362684729494</td>\n",
              "      <td>COMP27</td>\n",
              "      <td>CTO</td>\n",
              "      <td>DOCTORAL</td>\n",
              "      <td>ENGINEERING</td>\n",
              "      <td>WEB</td>\n",
              "      <td>23.0</td>\n",
              "      <td>41.0</td>\n",
              "      <td>239.0</td>\n",
              "    </tr>\n",
              "    <tr>\n",
              "      <th>321875</th>\n",
              "      <td>JOB1362684729562</td>\n",
              "      <td>COMP24</td>\n",
              "      <td>CEO</td>\n",
              "      <td>DOCTORAL</td>\n",
              "      <td>CHEMISTRY</td>\n",
              "      <td>FINANCE</td>\n",
              "      <td>18.0</td>\n",
              "      <td>12.0</td>\n",
              "      <td>226.0</td>\n",
              "    </tr>\n",
              "  </tbody>\n",
              "</table>\n",
              "<p>2034 rows × 9 columns</p>\n",
              "</div>"
            ],
            "text/plain": [
              "                   jobId companyId  ... milesFromMetropolis salary\n",
              "266     JOB1362684407953    COMP30  ...                60.0  223.0\n",
              "362     JOB1362684408049    COMP38  ...                 3.0  223.0\n",
              "560     JOB1362684408247    COMP53  ...                 7.0  248.0\n",
              "670     JOB1362684408357    COMP26  ...                 9.0  240.0\n",
              "719     JOB1362684408406    COMP54  ...                14.0  225.0\n",
              "966     JOB1362684408653    COMP32  ...                11.0  247.0\n",
              "986     JOB1362684408673    COMP37  ...                20.0  229.0\n",
              "1211    JOB1362684408898    COMP24  ...                46.0  232.0\n",
              "1222    JOB1362684408909    COMP40  ...                 5.0  225.0\n",
              "1413    JOB1362684409100    COMP56  ...                15.0  241.0\n",
              "1500    JOB1362684409187    COMP40  ...                12.0  225.0\n",
              "1577    JOB1362684409264    COMP50  ...                 7.0  238.0\n",
              "1827    JOB1362684409514    COMP33  ...                16.0  234.0\n",
              "1907    JOB1362684409594     COMP4  ...                21.0  243.0\n",
              "2116    JOB1362684409803     COMP3  ...                16.0  237.0\n",
              "2217    JOB1362684409904    COMP45  ...                 4.0  232.0\n",
              "2356    JOB1362684410043     COMP3  ...                22.0  230.0\n",
              "2396    JOB1362684410083     COMP8  ...                 7.0  231.0\n",
              "2576    JOB1362684410263    COMP16  ...                10.0  230.0\n",
              "3066    JOB1362684410753    COMP44  ...                17.0  233.0\n",
              "3098    JOB1362684410785    COMP45  ...                 4.0  254.0\n",
              "3517    JOB1362684411204    COMP58  ...                 0.0  235.0\n",
              "3606    JOB1362684411293    COMP42  ...                19.0  243.0\n",
              "3623    JOB1362684411310    COMP51  ...                30.0  229.0\n",
              "4016    JOB1362684411703    COMP19  ...                 1.0  239.0\n",
              "4072    JOB1362684411759    COMP56  ...                14.0  226.0\n",
              "4154    JOB1362684411841    COMP39  ...                29.0  243.0\n",
              "4299    JOB1362684411986    COMP47  ...                18.0  229.0\n",
              "4438    JOB1362684412125    COMP43  ...                15.0  259.0\n",
              "4501    JOB1362684412188     COMP9  ...                13.0  259.0\n",
              "...                  ...       ...  ...                 ...    ...\n",
              "318703  JOB1362684726390    COMP43  ...                34.0  224.0\n",
              "318797  JOB1362684726484    COMP31  ...                15.0  244.0\n",
              "318798  JOB1362684726485    COMP47  ...                34.0  227.0\n",
              "318845  JOB1362684726532    COMP37  ...                19.0  227.0\n",
              "318889  JOB1362684726576    COMP10  ...                 8.0  235.0\n",
              "318952  JOB1362684726639    COMP19  ...                29.0  235.0\n",
              "319027  JOB1362684726714    COMP54  ...                 0.0  258.0\n",
              "319072  JOB1362684726759    COMP38  ...                 4.0  224.0\n",
              "319075  JOB1362684726762     COMP2  ...                 3.0  226.0\n",
              "319113  JOB1362684726800    COMP24  ...                 2.0  265.0\n",
              "319341  JOB1362684727028     COMP3  ...                37.0  228.0\n",
              "319374  JOB1362684727061    COMP35  ...                 9.0  233.0\n",
              "319455  JOB1362684727142    COMP35  ...                37.0  240.0\n",
              "319583  JOB1362684727270    COMP15  ...                 1.0  223.0\n",
              "319625  JOB1362684727312    COMP52  ...                 2.0  267.0\n",
              "319652  JOB1362684727339    COMP62  ...                 5.0  254.0\n",
              "319786  JOB1362684727473    COMP54  ...                13.0  253.0\n",
              "320521  JOB1362684728208    COMP46  ...                42.0  243.0\n",
              "320621  JOB1362684728308    COMP52  ...                 2.0  241.0\n",
              "321152  JOB1362684728839    COMP40  ...                13.0  229.0\n",
              "321236  JOB1362684728923    COMP18  ...                 3.0  223.0\n",
              "321264  JOB1362684728951     COMP5  ...                 2.0  259.0\n",
              "321291  JOB1362684728978    COMP57  ...                33.0  252.0\n",
              "321385  JOB1362684729072    COMP52  ...                44.0  225.0\n",
              "321486  JOB1362684729173    COMP42  ...                25.0  226.0\n",
              "321722  JOB1362684729409    COMP23  ...                 9.0  235.0\n",
              "321789  JOB1362684729476    COMP48  ...                69.0  245.0\n",
              "321795  JOB1362684729482    COMP22  ...                 1.0  238.0\n",
              "321807  JOB1362684729494    COMP27  ...                41.0  239.0\n",
              "321875  JOB1362684729562    COMP24  ...                12.0  226.0\n",
              "\n",
              "[2034 rows x 9 columns]"
            ]
          },
          "metadata": {
            "tags": []
          },
          "execution_count": 30
        }
      ]
    },
    {
      "cell_type": "markdown",
      "metadata": {
        "id": "dfbQY2oRvbIq",
        "colab_type": "text"
      },
      "source": [
        "The first entry below the lower bound does not look like a volunteer position. I'm confident it may just be an instance of missing or corupt data, so I'll remove it from the training set. \n",
        "\n",
        "On the other hand, the super-high salaries above the higher bound all seem to be real, legitimate data. This makes sense because many of the roles are in industried reputed for high-paying jobs eg. oil and finance. I'll keep them in the training set."
      ]
    },
    {
      "cell_type": "code",
      "metadata": {
        "id": "q5w-8Ss4uxHq",
        "colab_type": "code",
        "colab": {}
      },
      "source": [
        "# Remove data with zero salaries\n",
        "train_df = train_df[train_df.salary > 8.5]"
      ],
      "execution_count": 0,
      "outputs": []
    },
    {
      "cell_type": "markdown",
      "metadata": {
        "id": "XruEPf5YxP3W",
        "colab_type": "text"
      },
      "source": [
        "This is a function that takes a dataframe and a column as parameters, then goes on to make a plot for each feature. "
      ]
    },
    {
      "cell_type": "code",
      "metadata": {
        "id": "h5_ANFy0wRmi",
        "colab_type": "code",
        "colab": {}
      },
      "source": [
        "def plot_feature(df, col):\n",
        "    '''\n",
        "    Make plot for each features\n",
        "    left, the distribution of samples on the feature\n",
        "    right, the dependance of salary on the feature\n",
        "    '''\n",
        "    plt.figure(figsize = (14, 6))\n",
        "    plt.subplot(1, 2, 1)\n",
        "    if df[col].dtype == 'int64':\n",
        "        df[col].value_counts().sort_index().plot()\n",
        "    else:\n",
        "        #change the categorical variable to category type and order their level by the mean salary\n",
        "        #in each category\n",
        "        mean = df.groupby(col)['salary'].mean()\n",
        "        df[col] = df[col].astype('category')\n",
        "        levels = mean.sort_values().index.tolist()\n",
        "        df[col].cat.reorder_categories(levels, inplace=True)\n",
        "        df[col].value_counts().plot()\n",
        "    plt.xticks(rotation=45)\n",
        "    plt.xlabel(col)\n",
        "    plt.ylabel('Counts')\n",
        "    plt.subplot(1, 2, 2)\n",
        "\n",
        "    if df[col].dtype == 'int64' or col == 'companyId':\n",
        "        #plot the mean salary for each category and fill between the (mean - std, mean + std)\n",
        "        mean = df.groupby(col)['salary'].mean()\n",
        "        std = df.groupby(col)['salary'].std()\n",
        "        mean.plot()\n",
        "        plt.fill_between(range(len(std.index)), mean.values-std.values, mean.values + std.values, \\\n",
        "                         alpha = 0.1)\n",
        "    else:\n",
        "        sns.boxplot(x = col, y = 'salary', data=df)\n",
        "        \n",
        "        \n",
        "    plt.xticks(rotation=45)\n",
        "    plt.ylabel('Salaries')\n",
        "    plt.show()\n",
        "        \n",
        "        "
      ],
      "execution_count": 0,
      "outputs": []
    },
    {
      "cell_type": "markdown",
      "metadata": {
        "id": "OAAbv11oyFlH",
        "colab_type": "text"
      },
      "source": [
        "**From here on, I'll vizualize each feature in relation to how high or low the corresponding salaries are.** "
      ]
    },
    {
      "cell_type": "code",
      "metadata": {
        "id": "744k4xJyyUwZ",
        "colab_type": "code",
        "outputId": "c31fe3c4-2b72-4739-e044-3ab9a946a575",
        "colab": {
          "base_uri": "https://localhost:8080/",
          "height": 418
        }
      },
      "source": [
        "plot_feature(train_df, 'companyId')"
      ],
      "execution_count": 0,
      "outputs": [
        {
          "output_type": "display_data",
          "data": {
            "image/png": "[encoded data removed]",
            "text/plain": [
              "<Figure size 1008x432 with 2 Axes>"
            ]
          },
          "metadata": {
            "tags": []
          }
        }
      ]
    },
    {
      "cell_type": "markdown",
      "metadata": {
        "id": "gOfBLXDTy1wM",
        "colab_type": "text"
      },
      "source": [
        "**Here, it seems the correlation between salaries and companies is pretty weak.**"
      ]
    },
    {
      "cell_type": "code",
      "metadata": {
        "id": "W39p8Cm4ydxL",
        "colab_type": "code",
        "outputId": "0ba22d86-75f7-4256-ae98-c5037cf46263",
        "colab": {
          "base_uri": "https://localhost:8080/",
          "height": 448
        }
      },
      "source": [
        "plot_feature(train_df, 'jobType')"
      ],
      "execution_count": 0,
      "outputs": [
        {
          "output_type": "display_data",
          "data": {
            "image/png": "[encoded data removed]",
            "text/plain": [
              "<Figure size 1008x432 with 2 Axes>"
            ]
          },
          "metadata": {
            "tags": []
          }
        }
      ]
    },
    {
      "cell_type": "code",
      "metadata": {
        "id": "EaS54hBwzT9X",
        "colab_type": "code",
        "colab": {}
      },
      "source": [
        ""
      ],
      "execution_count": 0,
      "outputs": []
    },
    {
      "cell_type": "markdown",
      "metadata": {
        "id": "xoxdkKLFzcL3",
        "colab_type": "text"
      },
      "source": [
        "**It's clear here that there is a correlation between job type and salaries. CEOs, CTOs and, CFOs earn the highest, while Janitors and people in junior positions earn less.**"
      ]
    },
    {
      "cell_type": "code",
      "metadata": {
        "id": "bZ91qel-z2gn",
        "colab_type": "code",
        "outputId": "051cdd9b-205e-4cf9-be06-dc22eb93045e",
        "colab": {
          "base_uri": "https://localhost:8080/",
          "height": 440
        }
      },
      "source": [
        "plot_feature(train_df, 'degree')"
      ],
      "execution_count": 0,
      "outputs": [
        {
          "output_type": "display_data",
          "data": {
            "image/png": "[encoded data removed]",
            "text/plain": [
              "<Figure size 1008x432 with 2 Axes>"
            ]
          },
          "metadata": {
            "tags": []
          }
        }
      ]
    },
    {
      "cell_type": "markdown",
      "metadata": {
        "id": "trmObpwp0WdR",
        "colab_type": "text"
      },
      "source": [
        "**It is shown here that a higher degree corresponds to a higher salary as well.**"
      ]
    },
    {
      "cell_type": "code",
      "metadata": {
        "id": "7ahw4qiU0T5D",
        "colab_type": "code",
        "outputId": "52a6f1aa-837a-4082-8b41-082f0ee677b9",
        "colab": {
          "base_uri": "https://localhost:8080/",
          "height": 438
        }
      },
      "source": [
        "plot_feature(train_df, 'major')"
      ],
      "execution_count": 0,
      "outputs": [
        {
          "output_type": "display_data",
          "data": {
            "image/png": "[encoded data removed]",
            "text/plain": [
              "<Figure size 1008x432 with 2 Axes>"
            ]
          },
          "metadata": {
            "tags": []
          }
        }
      ]
    },
    {
      "cell_type": "markdown",
      "metadata": {
        "id": "GOXUNHvB06RD",
        "colab_type": "text"
      },
      "source": [
        "**Here, it shows that people who majored in Math, Business and Engineering have the highest salaries. The lower end includes people who don't have college degrees, Biology and Chemistry majors.**"
      ]
    },
    {
      "cell_type": "code",
      "metadata": {
        "id": "c0i1PfoR0c25",
        "colab_type": "code",
        "outputId": "ce2552ab-39f6-4a88-b3a6-a459595608d4",
        "colab": {
          "base_uri": "https://localhost:8080/",
          "height": 431
        }
      },
      "source": [
        "plot_feature(train_df, 'industry')"
      ],
      "execution_count": 0,
      "outputs": [
        {
          "output_type": "display_data",
          "data": {
            "image/png": "[encoded data removed]",
            "text/plain": [
              "<Figure size 1008x432 with 2 Axes>"
            ]
          },
          "metadata": {
            "tags": []
          }
        }
      ]
    },
    {
      "cell_type": "code",
      "metadata": {
        "id": "hXasfod11i2V",
        "colab_type": "code",
        "colab": {}
      },
      "source": [
        "\n"
      ],
      "execution_count": 0,
      "outputs": []
    },
    {
      "cell_type": "markdown",
      "metadata": {
        "id": "o2Dt7SsN1zkd",
        "colab_type": "text"
      },
      "source": [
        "**As regards industries, the Finance and Oil industries have the highest salaries.**"
      ]
    },
    {
      "cell_type": "code",
      "metadata": {
        "id": "ij6OPvz51_Ru",
        "colab_type": "code",
        "outputId": "f3b0f1e0-b984-4c97-cef9-d728bd787aa3",
        "colab": {
          "base_uri": "https://localhost:8080/",
          "height": 404
        }
      },
      "source": [
        "plot_feature(train_df, 'yearsExperience')"
      ],
      "execution_count": 0,
      "outputs": [
        {
          "output_type": "display_data",
          "data": {
            "image/png": "[encoded data removed]",
            "text/plain": [
              "<Figure size 1008x432 with 2 Axes>"
            ]
          },
          "metadata": {
            "tags": []
          }
        }
      ]
    },
    {
      "cell_type": "markdown",
      "metadata": {
        "id": "RTpW2orJ2HWs",
        "colab_type": "text"
      },
      "source": [
        "**This shows that the higher the years of experience, the higher the salary received.**"
      ]
    },
    {
      "cell_type": "code",
      "metadata": {
        "id": "hdi4Hr182D4o",
        "colab_type": "code",
        "outputId": "3aca2136-7b08-4f18-97f4-f31f77e61180",
        "colab": {
          "base_uri": "https://localhost:8080/",
          "height": 404
        }
      },
      "source": [
        "plot_feature(train_df, 'milesFromMetropolis')"
      ],
      "execution_count": 0,
      "outputs": [
        {
          "output_type": "display_data",
          "data": {
            "image/png": "[encoded data removed]",
            "text/plain": [
              "<Figure size 1008x432 with 2 Axes>"
            ]
          },
          "metadata": {
            "tags": []
          }
        }
      ]
    },
    {
      "cell_type": "markdown",
      "metadata": {
        "id": "jDlM_WHx2rSR",
        "colab_type": "text"
      },
      "source": [
        "**In general, we can see that the closer one is to a metropolis, the lower the salary.**"
      ]
    },
    {
      "cell_type": "markdown",
      "metadata": {
        "id": "_1-bU1Vd3OLX",
        "colab_type": "text"
      },
      "source": [
        "**Conclusion from EDA (Exploratory Data Analysis)**"
      ]
    },
    {
      "cell_type": "markdown",
      "metadata": {
        "id": "TfozfBLR3Yhj",
        "colab_type": "text"
      },
      "source": [
        "It appears at this juncture that jobType is most strongly correlated with salary, followed by degree, major, and yearsExperience.\n",
        "\n",
        "Among all the features, it's clear that degree and major have a strong degree of correlation and jobType has a moderate degree of correlation with both degree and major."
      ]
    },
    {
      "cell_type": "code",
      "metadata": {
        "id": "ClJ299Xw3nGX",
        "colab_type": "code",
        "colab": {}
      },
      "source": [
        ""
      ],
      "execution_count": 0,
      "outputs": []
    }
  ]
}